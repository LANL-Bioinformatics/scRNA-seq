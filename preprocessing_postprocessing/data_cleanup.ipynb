{
 "cells": [
  {
   "cell_type": "code",
   "execution_count": 1,
   "metadata": {},
   "outputs": [],
   "source": [
    "import scanpy\n",
    "import pandas as pd"
   ]
  },
  {
   "cell_type": "markdown",
   "metadata": {},
   "source": [
    "## Clean Up Variable Names (X axis columns)\n",
    "#### Uses a dictionary to rename selective columns and resaves the data as a 10x h5 file"
   ]
  },
  {
   "cell_type": "code",
   "execution_count": 2,
   "metadata": {},
   "outputs": [
    {
     "name": "stderr",
     "output_type": "stream",
     "text": [
      "/home/mdix/.conda/envs/10x_covid_py/lib/python3.11/site-packages/anndata/_core/anndata.py:1820: UserWarning: Variable names are not unique. To make them unique, call `.var_names_make_unique`.\n",
      "  utils.warn_names_duplicates(\"var\")\n"
     ]
    },
    {
     "name": "stdout",
     "output_type": "stream",
     "text": [
      "Index(['RP11-34P13.3', 'FAM138A', 'OR4F5', 'RP11-34P13.7', 'RP11-34P13.8',\n",
      "       'RP11-34P13.14', 'RP11-34P13.9', 'FO538757.3', 'FO538757.2',\n",
      "       'AP006222.2',\n",
      "       ...\n",
      "       'gene_orf1ab', 'gene_S', 'gene_ORF3a', 'gene_E', 'gene_M', 'gene_ORF6',\n",
      "       'gene_ORF7a', 'gene_ORF8', 'gene_N', 'gene_ORF10'],\n",
      "      dtype='object', length=33704)\n",
      "Index(['RP11-34P13.3', 'FAM138A', 'OR4F5', 'RP11-34P13.7', 'RP11-34P13.8',\n",
      "       'RP11-34P13.14', 'RP11-34P13.9', 'FO538757.3', 'FO538757.2',\n",
      "       'AP006222.2',\n",
      "       ...\n",
      "       'COVID-orf1ab', 'COVID-S', 'COVID-ORF3a', 'COVID-E', 'COVID-M',\n",
      "       'COVID-ORF6', 'COVID-ORF7a', 'COVID-ORF8', 'COVID-N', 'COVID-ORF10'],\n",
      "      dtype='object', length=33704)\n"
     ]
    },
    {
     "name": "stderr",
     "output_type": "stream",
     "text": [
      "/home/mdix/.conda/envs/10x_covid_py/lib/python3.11/site-packages/anndata/_core/anndata.py:1820: UserWarning: Variable names are not unique. To make them unique, call `.var_names_make_unique`.\n",
      "  utils.warn_names_duplicates(\"var\")\n"
     ]
    }
   ],
   "source": [
    "gene_dict = {\"gene_orf1ab\": \"COVID-orf1ab\", \"gene_S\": \"COVID-S\", \"gene_ORF3a\": \"COVID-ORF3a\", \"gene_E\": \"COVID-E\", \"gene_M\": \"COVID-M\",\n",
    "             \"gene_ORF6\": \"COVID-ORF6\", \"gene_ORF7a\": \"COVID-ORF7a\", \"gene_ORF8\": \"COVID-ORF8\", \"gene_N\":\"COVID-N\", \"gene_ORF10\": \"COVID-ORF10\"}\n",
    "\n",
    "file_name = \"../data/GSM4674665_CS9_CS10_raw_feature_bc_matrix.h5\"\n",
    "adata = scanpy.read_10x_h5(file_name)\n",
    "\n",
    "print(adata.var_names)\n",
    "\n",
    "new_var_names = []\n",
    "for item in adata.var_names:\n",
    "    if \"gene_\" in item:\n",
    "        new_var_names.append(gene_dict[item])\n",
    "    else:\n",
    "        new_var_names.append(item)\n",
    "\n",
    "adata.var_names = new_var_names\n",
    "\n",
    "print(adata.var_names)"
   ]
  },
  {
   "cell_type": "code",
   "execution_count": 12,
   "metadata": {},
   "outputs": [
    {
     "name": "stdout",
     "output_type": "stream",
     "text": [
      "test\n",
      "../data/GSM4674665_CS9_CS10_raw_feature_bc_matrix\n"
     ]
    }
   ],
   "source": [
    "import h5py\n",
    "import numpy as np\n",
    "from scipy.sparse import csr_matrix\n",
    "from pathlib import Path\n",
    "\n",
    "# Scanpy does not have a native write 10x h5 function\n",
    "# This version is copied from here: https://github.com/scverse/anndata/issues/595\n",
    "def write_10X_h5(adata, file):\n",
    "    \"\"\"Writes adata to a 10X-formatted h5 file.\n",
    "    \n",
    "    Note that this function is not fully tested and may not work for all cases.\n",
    "    It will not write the following keys to the h5 file compared to 10X:\n",
    "    '_all_tag_keys', 'pattern', 'read', 'sequence'\n",
    "\n",
    "    Args:\n",
    "        adata (AnnData object): AnnData object to be written.\n",
    "        file (str): File name to be written to. If no extension is given, '.h5' is appended.\n",
    "\n",
    "    Raises:\n",
    "        FileExistsError: If file already exists.\n",
    "\n",
    "    Returns:\n",
    "        None\n",
    "    \"\"\"\n",
    "    \n",
    "    if '.h5' not in file: file = f'{file}.h5'\n",
    "    if Path(file).exists():\n",
    "        raise FileExistsError(f\"There already is a file `{file}`.\")\n",
    "    def int_max(x):\n",
    "        return int(max(np.floor(len(str(int(max(x)))) / 4), 1) * 4)\n",
    "    def str_max(x):\n",
    "        return max([len(i) for i in x])\n",
    "\n",
    "    w = h5py.File(file, 'w')\n",
    "    grp = w.create_group(\"matrix\")\n",
    "    grp.create_dataset(\"barcodes\", data=np.array(adata.obs_names, dtype=f'|S{str_max(adata.obs_names)}'))\n",
    "    grp.create_dataset(\"data\", data=np.array(adata.X.data, dtype=f'<i{int_max(adata.X.data)}'))\n",
    "    ftrs = grp.create_group(\"features\")\n",
    "    # this group will lack the following keys:\n",
    "    # '_all_tag_keys', 'feature_type', 'genome', 'id', 'name', 'pattern', 'read', 'sequence'\n",
    "    ftrs.create_dataset(\"feature_type\", data=np.array(adata.var.feature_types, dtype=f'|S{str_max(adata.var.feature_types)}'))\n",
    "    ftrs.create_dataset(\"genome\", data=np.array(adata.var.genome, dtype=f'|S{str_max(adata.var.genome)}'))\n",
    "    ftrs.create_dataset(\"id\", data=np.array(adata.var.gene_ids, dtype=f'|S{str_max(adata.var.gene_ids)}'))\n",
    "    ftrs.create_dataset(\"name\", data=np.array(adata.var.index, dtype=f'|S{str_max(adata.var.index)}'))\n",
    "    grp.create_dataset(\"indices\", data=np.array(adata.X.indices, dtype=f'<i{int_max(adata.X.indices)}'))\n",
    "    grp.create_dataset(\"indptr\", data=np.array(adata.X.indptr, dtype=f'<i{int_max(adata.X.indptr)}'))\n",
    "    grp.create_dataset(\"shape\", data=np.array(list(adata.X.shape)[::-1], dtype=f'<i{int_max(adata.X.shape)}'))\n",
    "\n",
    "\n",
    "print(file_name[:-3])\n",
    "write_10X_h5(adata, file_name[:-3]+\"_clean.h5\")"
   ]
  }
 ],
 "metadata": {
  "kernelspec": {
   "display_name": "10x_covid_py",
   "language": "python",
   "name": "python3"
  },
  "language_info": {
   "codemirror_mode": {
    "name": "ipython",
    "version": 3
   },
   "file_extension": ".py",
   "mimetype": "text/x-python",
   "name": "python",
   "nbconvert_exporter": "python",
   "pygments_lexer": "ipython3",
   "version": "3.11.9"
  }
 },
 "nbformat": 4,
 "nbformat_minor": 2
}
