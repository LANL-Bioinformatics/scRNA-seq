{
 "cells": [
  {
   "cell_type": "markdown",
   "metadata": {},
   "source": [
    "### Example for creating a down sampled leiden clustering plot\n",
    "Matched the number of cells in the control by randomly selecting the same number of points from the treatment."
   ]
  },
  {
   "cell_type": "code",
   "execution_count": 27,
   "metadata": {},
   "outputs": [],
   "source": [
    "import scanpy\n",
    "import numpy as np\n",
    "import pandas as pd \n",
    "import matplotlib.pyplot as plt"
   ]
  },
  {
   "cell_type": "code",
   "execution_count": 22,
   "metadata": {},
   "outputs": [
    {
     "name": "stdout",
     "output_type": "stream",
     "text": [
      "AnnData object with n_obs × n_vars = 81568 × 8945\n",
      "    obs: 'sample_id', 'condition', 'batch', 'doublet', 'n_genes_by_counts', 'total_counts', 'total_counts_mt', 'pct_counts_mt', 'total_counts_ribo', 'pct_counts_ribo', 'n_genes', 'leiden', 'merged leiden'\n",
      "    var: 'mean', 'std', 'highly_variable', 'means', 'dispersions', 'dispersions_norm'\n",
      "    uns: 'batch_colors', 'hvg', 'leiden', 'leiden_colors', 'log1p', 'neighbors', 'pca', 'sample_id_colors', 'umap'\n",
      "    obsm: 'X_pca', 'X_umap'\n",
      "    varm: 'PCs'\n",
      "    layers: 'counts'\n",
      "    obsp: 'connectivities', 'distances'\n"
     ]
    },
    {
     "name": "stderr",
     "output_type": "stream",
     "text": [
      "/home/mdix/.conda/envs/10x_sc/lib/python3.11/site-packages/anndata/_core/anndata.py:1818: UserWarning: Observation names are not unique. To make them unique, call `.obs_names_make_unique`.\n",
      "  utils.warn_names_duplicates(\"obs\")\n"
     ]
    }
   ],
   "source": [
    "path = \"/my/path\"\n",
    "adata = scanpy.read_h5ad(path+\"adata_w_leiden_groups.h5ad\")\n",
    "print(adata)"
   ]
  },
  {
   "cell_type": "code",
   "execution_count": 23,
   "metadata": {},
   "outputs": [
    {
     "name": "stdout",
     "output_type": "stream",
     "text": [
      "View of AnnData object with n_obs × n_vars = 9454 × 8945\n",
      "    obs: 'sample_id', 'condition', 'batch', 'doublet', 'n_genes_by_counts', 'total_counts', 'total_counts_mt', 'pct_counts_mt', 'total_counts_ribo', 'pct_counts_ribo', 'n_genes', 'leiden', 'merged leiden'\n",
      "    var: 'mean', 'std', 'highly_variable', 'means', 'dispersions', 'dispersions_norm'\n",
      "    uns: 'batch_colors', 'hvg', 'leiden', 'leiden_colors', 'log1p', 'neighbors', 'pca', 'sample_id_colors', 'umap'\n",
      "    obsm: 'X_pca', 'X_umap'\n",
      "    varm: 'PCs'\n",
      "    layers: 'counts'\n",
      "    obsp: 'connectivities', 'distances'\n"
     ]
    }
   ],
   "source": [
    "control_adata = adata[adata.obs.condition == \"Control\"]\n",
    "print(control_adata)"
   ]
  },
  {
   "cell_type": "code",
   "execution_count": 24,
   "metadata": {},
   "outputs": [
    {
     "name": "stdout",
     "output_type": "stream",
     "text": [
      "View of AnnData object with n_obs × n_vars = 72114 × 8945\n",
      "    obs: 'sample_id', 'condition', 'batch', 'doublet', 'n_genes_by_counts', 'total_counts', 'total_counts_mt', 'pct_counts_mt', 'total_counts_ribo', 'pct_counts_ribo', 'n_genes', 'leiden', 'merged leiden'\n",
      "    var: 'mean', 'std', 'highly_variable', 'means', 'dispersions', 'dispersions_norm'\n",
      "    uns: 'batch_colors', 'hvg', 'leiden', 'leiden_colors', 'log1p', 'neighbors', 'pca', 'sample_id_colors', 'umap'\n",
      "    obsm: 'X_pca', 'X_umap'\n",
      "    varm: 'PCs'\n",
      "    layers: 'counts'\n",
      "    obsp: 'connectivities', 'distances'\n"
     ]
    }
   ],
   "source": [
    "treatment_adata = adata[adata.obs.condition != \"Control\"]\n",
    "print(treatment_adata)"
   ]
  },
  {
   "cell_type": "code",
   "execution_count": 25,
   "metadata": {},
   "outputs": [
    {
     "name": "stdout",
     "output_type": "stream",
     "text": [
      "9454\n"
     ]
    }
   ],
   "source": [
    "num_samples = len(control_adata.obs)\n",
    "print(num_samples)"
   ]
  },
  {
   "cell_type": "code",
   "execution_count": 26,
   "metadata": {},
   "outputs": [
    {
     "name": "stdout",
     "output_type": "stream",
     "text": [
      "AnnData object with n_obs × n_vars = 9454 × 8945\n",
      "    obs: 'sample_id', 'condition', 'batch', 'doublet', 'n_genes_by_counts', 'total_counts', 'total_counts_mt', 'pct_counts_mt', 'total_counts_ribo', 'pct_counts_ribo', 'n_genes', 'leiden', 'merged leiden'\n",
      "    var: 'mean', 'std', 'highly_variable', 'means', 'dispersions', 'dispersions_norm'\n",
      "    uns: 'batch_colors', 'hvg', 'leiden', 'leiden_colors', 'log1p', 'neighbors', 'pca', 'sample_id_colors', 'umap'\n",
      "    obsm: 'X_pca', 'X_umap'\n",
      "    varm: 'PCs'\n",
      "    layers: 'counts'\n",
      "    obsp: 'connectivities', 'distances'\n"
     ]
    }
   ],
   "source": [
    "def random_sample_adata(adata, n_samples, sample_size, seed=None):\n",
    "\n",
    "    if seed is not None:\n",
    "        np.random.seed(seed)\n",
    "\n",
    "    sampled_indices = []\n",
    "\n",
    "    # Perform random sampling\n",
    "    for _ in range(n_samples):\n",
    "        sample = np.random.choice(adata.n_obs, size=sample_size, replace=False)\n",
    "        sampled_indices.extend(sample)\n",
    "\n",
    "    # Create a new AnnData object with the sampled cells\n",
    "    adata_sampled = adata[sampled_indices].copy()\n",
    "\n",
    "    return adata_sampled\n",
    "\\\n",
    "treatment_adata_sampled = random_sample_adata(treatment_adata, n_samples=num_samples, sample_size=1, seed=42)\n",
    "print(treatment_adata_sampled)\n",
    "\n",
    "\n"
   ]
  },
  {
   "cell_type": "code",
   "execution_count": 30,
   "metadata": {},
   "outputs": [],
   "source": [
    "plt.switch_backend('agg')\n",
    "\n",
    "with plt.rc_context():\n",
    "    fig, ax = plt.subplots(figsize=(10, 7))\n",
    "    scanpy.pl.umap(treatment_adata_sampled, color='merged leiden', size=3, legend_loc='on data')\n",
    "    plt.title(\"Treatment\")\n",
    "    plt.savefig(path+\"UMAP_leiden_Treatment_automated_names_labeled_on_plot_downsampled.png\", bbox_inches='tight')"
   ]
  }
 ],
 "metadata": {
  "kernelspec": {
   "display_name": "10x_sc",
   "language": "python",
   "name": "python3"
  },
  "language_info": {
   "codemirror_mode": {
    "name": "ipython",
    "version": 3
   },
   "file_extension": ".py",
   "mimetype": "text/x-python",
   "name": "python",
   "nbconvert_exporter": "python",
   "pygments_lexer": "ipython3",
   "version": "3.11.10"
  }
 },
 "nbformat": 4,
 "nbformat_minor": 2
}
