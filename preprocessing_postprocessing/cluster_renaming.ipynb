{
 "cells": [
  {
   "cell_type": "markdown",
   "metadata": {},
   "source": [
    "# Sample File on Renaming Leiden Clusters"
   ]
  },
  {
   "cell_type": "code",
   "execution_count": 1,
   "metadata": {},
   "outputs": [],
   "source": [
    "import scanpy"
   ]
  },
  {
   "cell_type": "markdown",
   "metadata": {},
   "source": [
    "Load data into an anndata object"
   ]
  },
  {
   "cell_type": "code",
   "execution_count": 3,
   "metadata": {},
   "outputs": [
    {
     "name": "stdout",
     "output_type": "stream",
     "text": [
      "AnnData object with n_obs × n_vars = 81501 × 8619\n",
      "    obs: 'sample_id', 'condition', 'batch', 'doublet', 'n_genes_by_counts', 'total_counts', 'total_counts_mt', 'pct_counts_mt', 'total_counts_ribo', 'pct_counts_ribo', 'n_genes', 'leiden', 'merged leiden'\n",
      "    var: 'mean', 'std', 'highly_variable', 'means', 'dispersions', 'dispersions_norm'\n",
      "    uns: 'batch_colors', 'hvg', 'leiden', 'leiden_colors', 'log1p', 'neighbors', 'pca', 'sample_id_colors', 'umap'\n",
      "    obsm: 'X_pca', 'X_umap'\n",
      "    varm: 'PCs'\n",
      "    layers: 'counts'\n",
      "    obsp: 'connectivities', 'distances'\n"
     ]
    },
    {
     "name": "stderr",
     "output_type": "stream",
     "text": [
      "/home/mdix/.conda/envs/10x_sc/lib/python3.11/site-packages/anndata/_core/anndata.py:1818: UserWarning: Observation names are not unique. To make them unique, call `.obs_names_make_unique`.\n",
      "  utils.warn_names_duplicates(\"obs\")\n"
     ]
    }
   ],
   "source": [
    "path = \"/my/path/\"\n",
    "adata = scanpy.read_h5ad(path+\"adata_w_leiden_groups.h5ad\")\n",
    "print(adata)"
   ]
  },
  {
   "cell_type": "markdown",
   "metadata": {},
   "source": [
    "Create a dictionary with the old and new names"
   ]
  },
  {
   "cell_type": "code",
   "execution_count": 10,
   "metadata": {},
   "outputs": [
    {
     "name": "stdout",
     "output_type": "stream",
     "text": [
      "['Plasma cells', 'Erythrocytes', 'B cells', 'Platelets', 'Undefined lymphocytes', 'CD4 T cells', 'Proliferating lymphocytes', 'Monocytes', 'CD8 T cells']\n"
     ]
    }
   ],
   "source": [
    "# Current set of cell types\n",
    "current_cell_types = list(set(adata.obs[\"merged leiden\"].tolist()))\n",
    "print(current_cell_types)"
   ]
  },
  {
   "cell_type": "code",
   "execution_count": 13,
   "metadata": {},
   "outputs": [
    {
     "name": "stdout",
     "output_type": "stream",
     "text": [
      "{'Plasma cells': 'Plasma cells', 'Erythrocytes': 'Erythrocytes', 'B cells': 'B cells', 'Platelets': 'Platelets', 'Undefined lymphocytes': 'Undefined lymphocytes', 'CD4 T cells': 'CD4 T cells', 'Proliferating lymphocytes': 'Proliferating lymphocytes', 'Monocytes': 'Monocytes', 'CD8 T cells': 'CD8 T cells / NK cells'}\n"
     ]
    }
   ],
   "source": [
    "# New cell types\n",
    "new_cell_types = [\"Plasma cells\", \"Erythrocytes\", \"B cells\", \"Platelets\", \"Undefined lymphocytes\", \"CD4 T cells\", \"Proliferating lymphocytes\", \"Monocytes\", \"CD8 T cells / NK cells\"]\n",
    "\n",
    "# Creae mapping from the old to the new cell types\n",
    "cell_map = dict(map(lambda i,j : (i,j) , current_cell_types,new_cell_types))\n",
    "\n",
    "print(cell_map)"
   ]
  },
  {
   "cell_type": "markdown",
   "metadata": {},
   "source": [
    "Add the new names to the anndata"
   ]
  },
  {
   "cell_type": "code",
   "execution_count": 14,
   "metadata": {},
   "outputs": [
    {
     "name": "stdout",
     "output_type": "stream",
     "text": [
      "AAACCTGAGTTCCACA-1               CD4 T cells\n",
      "AAACCTGCAGGGATTG-1    CD8 T cells / NK cells\n",
      "AAACCTGGTATAGGGC-1               CD4 T cells\n",
      "AAACCTGGTGGTCTCG-1                 Monocytes\n",
      "AAACCTGTCCAAACAC-1                 Monocytes\n",
      "                               ...          \n",
      "TTTGTTGGTTCTCCTG-1    CD8 T cells / NK cells\n",
      "TTTGTTGTCCCGTGAG-1               CD4 T cells\n",
      "TTTGTTGTCCGTGACG-1               CD4 T cells\n",
      "TTTGTTGTCTGAGGCC-1                   B cells\n",
      "TTTGTTGTCTGCTGAA-1                   B cells\n",
      "Name: merged leiden, Length: 81501, dtype: category\n",
      "Categories (9, object): ['B cells', 'CD4 T cells', 'CD8 T cells / NK cells', 'Erythrocytes', ..., 'Plasma cells', 'Platelets', 'Proliferating lymphocytes', 'Undefined lymphocytes']\n"
     ]
    }
   ],
   "source": [
    "adata.obs[\"merged leiden\"] = (adata.obs[\"merged leiden\"].map(lambda x: cell_map.get(x)).astype(\"category\"))\n",
    "print(adata.obs[\"merged leiden\"])"
   ]
  }
 ],
 "metadata": {
  "kernelspec": {
   "display_name": "10x_sc",
   "language": "python",
   "name": "python3"
  },
  "language_info": {
   "codemirror_mode": {
    "name": "ipython",
    "version": 3
   },
   "file_extension": ".py",
   "mimetype": "text/x-python",
   "name": "python",
   "nbconvert_exporter": "python",
   "pygments_lexer": "ipython3",
   "version": "3.11.10"
  }
 },
 "nbformat": 4,
 "nbformat_minor": 2
}
